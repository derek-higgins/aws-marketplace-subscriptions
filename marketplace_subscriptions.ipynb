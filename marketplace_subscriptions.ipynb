{
 "cells": [
  {
   "cell_type": "code",
   "execution_count": null,
   "metadata": {},
   "outputs": [],
   "source": []
  },
  {
   "cell_type": "code",
   "execution_count": null,
   "metadata": {},
   "outputs": [],
   "source": [
    "import boto3\n",
    "import requests\n",
    "import hashlib\n",
    "import json\n",
    "import botocore\n",
    "from botocore.auth import SigV4Auth\n",
    "from botocore.awsrequest import AWSRequest\n",
    "import pandas as pd"
   ]
  },
  {
   "cell_type": "code",
   "execution_count": null,
   "metadata": {},
   "outputs": [],
   "source": [
    "boto_session= boto3.Session(profile_name=\"\") #add profile of account that can assume role in all child accounts\n",
    "CHILD_ROLE=\"\" #name of role depoyed to all accounts in the organization\n",
    "\n"
   ]
  },
  {
   "cell_type": "code",
   "execution_count": null,
   "metadata": {},
   "outputs": [],
   "source": [
    "def get_aws_accounts():\n",
    "\n",
    "    \"\"\"\n",
    "    This function retrieves a list of all AWS accounts within the organization, \n",
    "    filtered by account status (active or inactive).\n",
    "\n",
    "    Parameters:\n",
    "    None\n",
    "\n",
    "    Returns:\n",
    "    A list of AWS accounts, each represented as a dictionary with the following \n",
    "    keys: 'Id', 'Name', and 'Status'.\n",
    "\n",
    "    Raises:\n",
    "    botocore.exceptions.ClientError: If there is an error making the API call.\n",
    "    \"\"\"\n",
    "    org_client = boto_session.client('organizations')\n",
    "    filters = [{'Type': 'ACCOUNT_STATUS', 'Condition': 'EQ', 'Value': 'ACTIVE'}]\n",
    "\n",
    "    # Get the list of accounts with pagination\n",
    "    accounts = []\n",
    "    paginator = org_client.get_paginator('list_accounts')\n",
    "    page_iterator = paginator.paginate()\n",
    "\n",
    "    for page in page_iterator:\n",
    "        active_accounts = [account for account in page['Accounts'] if account['Status'] == 'ACTIVE']\n",
    "\n",
    "        accounts.extend(active_accounts)\n",
    "    return accounts"
   ]
  },
  {
   "cell_type": "code",
   "execution_count": null,
   "metadata": {},
   "outputs": [],
   "source": [
    "def get_access_keys(account_id, role_name):\n",
    "    sts_client = boto_session.client('sts')\n",
    "    \n",
    "    role_arn = f'arn:aws:iam::{account_id}:role/{role_name}'\n",
    "    \n",
    "    assumed_role = sts_client.assume_role(\n",
    "        RoleArn=role_arn,\n",
    "        RoleSessionName='AssumeRoleSession'\n",
    "    )\n",
    "    assumed_credentials=assumed_role['Credentials']\n",
    "    \n",
    "    client={\n",
    "        'access_key' : assumed_credentials['AccessKeyId'],\n",
    "        'secret_key': assumed_credentials['SecretAccessKey'],\n",
    "        'token': assumed_credentials['SessionToken']\n",
    "        }\n",
    "  \n",
    "    return client"
   ]
  },
  {
   "cell_type": "code",
   "execution_count": null,
   "metadata": {},
   "outputs": [],
   "source": [
    "def get_marketplace_subscriptions(account):\n",
    "    account_id=account['Id']\n",
    "    creds=get_access_keys(account_id,CHILD_ROLE)\n",
    "    payload_data = \"{\\\"domain\\\":\\\"AWSMarketplace\\\",\\\"filters\\\":[{\\\"name\\\":\\\"STATUS\\\",\\\"values\\\":[\\\"Active\\\"]},{\\\"name\\\":\\\"ACTOR\\\",\\\"values\\\":[\\\"ACCEPTOR\\\"]}],\\\"maxResults\\\":50}\"\n",
    "    service='aws-marketplace'\n",
    "    url='https://commerce.us-east-1.marketplace.aws.a2z.com/'\n",
    "    method='POST'\n",
    "    path=\"/\"\n",
    "    headers = {\n",
    "    \"X-Amz-Content-sha256\": hashlib.sha256(payload_data.encode('utf-8')).hexdigest(),  # Replace with actual request body\n",
    "    'host':'commerce.us-east-1.marketplace.aws.a2z.com',\n",
    "    'content-length':str(len(payload_data)),\n",
    "    'X-Amz-Target': 'AWSMPCommerceService_v20200301.SearchAgreements',\n",
    "  'Content-Type': 'application/x-amz-json-1.0',\n",
    "    }\n",
    "    session = botocore.session.Session()\n",
    "    session.set_credentials(**creds)\n",
    "    session.set_config_variable('region', 'us-east-1')\n",
    "    sigv4 = SigV4Auth(session.get_credentials(), service, 'us-east-1')\n",
    "    request = AWSRequest(method='POST', url=url, data=payload_data, headers=headers)\n",
    "    #request.context[\"payload_signing_enabled\"] = False # payload signing is not supported\n",
    "    sigv4.add_auth(request)\n",
    "    \n",
    "    prepped = request.prepare()\n",
    "    response = requests.post(prepped.url, headers=prepped.headers, data=payload_data) \n",
    "    #print(response.status_code)\n",
    "    # print(response.text)\n",
    "    return json.loads(response.text)\n",
    " "
   ]
  },
  {
   "cell_type": "code",
   "execution_count": null,
   "metadata": {},
   "outputs": [],
   "source": [
    "def get_marketplace_product(account,product_ids):\n",
    "    account_id=account['Id']\n",
    "    products=[]\n",
    "    if len(product_ids)<1:\n",
    "      return []\n",
    "    creds=get_access_keys(account_id,CHILD_ROLE)\n",
    "    payload_data = {\"filters\":[{\"type\":\"ProductId\",\"values\":product_ids}]}\n",
    "    service='aws-marketplace'\n",
    "    url='https://discovery.marketplace.us-east-1.amazonaws.com/'\n",
    "    method='POST'\n",
    "    path=\"/\"\n",
    "    headers = {\n",
    "    \"X-Amz-Content-sha256\": hashlib.sha256(json.dumps(payload_data).encode('utf-8')).hexdigest(),  # Replace with actual request body\n",
    "    'host':'discovery.marketplace.us-east-1.amazonaws.com',\n",
    "    'content-length':str(len(json.dumps(payload_data))),\n",
    "    'X-Amz-Target': 'AWSMPControlPlane.DescribeListings',\n",
    "    'Content-Type': 'application/x-amz-json-1.1',\n",
    "    'Accept-Encoding':'gzip, deflate, br'\n",
    "    }\n",
    "    session = botocore.session.Session()\n",
    "    session.set_credentials(**creds)\n",
    "    session.set_config_variable('region', 'us-east-1')\n",
    "    sigv4 = SigV4Auth(session.get_credentials(), service, 'us-east-1')\n",
    "    request = AWSRequest(method='POST', url=url, data=payload_data, headers=headers)\n",
    "    #request.context[\"payload_signing_enabled\"] = False # payload signing is not supported\n",
    "    sigv4.add_auth(request)\n",
    "    \n",
    "    prepped = request.prepare()\n",
    "    response = requests.post(prepped.url, headers=prepped.headers, data=json.dumps(payload_data)) \n",
    "    res=json.loads(response.text)\n",
    "    \n",
    "    for product in res['listings']:\n",
    "       \n",
    "       product_details=json.loads(product['detail'])\n",
    "       product_type=product_details['products'][0]['fulfillmentOptionTypes'][0]['displayName']\n",
    "       products.append({\"account_name\":account['Name'],\"account_id\":account_id,\"product_id\":product_details['id'],\"product_title\":product_details['title'],\"product_vendor\":product_details['vendor']['name'],\"product_description\":product_details['shortDescription'],\"product_type\":product_type})\n",
    "    \n",
    "    try:\n",
    "      return products\n",
    "    except:\n",
    "       print(json.loads(response.text))\n",
    "       return []\n"
   ]
  },
  {
   "cell_type": "code",
   "execution_count": null,
   "metadata": {},
   "outputs": [],
   "source": [
    "accounts=get_aws_accounts()\n",
    "all_products=[]\n",
    "for account in accounts:\n",
    "    subscriptions=get_marketplace_subscriptions(account)['agreementViewSummaries']\n",
    "    #print(subscriptions)\n",
    "    products=[]\n",
    "    for sub in subscriptions:\n",
    "        products.extend(sub['entitledProducts'])\n",
    "    #print(products)\n",
    "    products=get_marketplace_product(account,products)\n",
    "    all_products.extend(products)"
   ]
  },
  {
   "cell_type": "code",
   "execution_count": null,
   "metadata": {},
   "outputs": [],
   "source": [
    "len(all_products)"
   ]
  },
  {
   "cell_type": "code",
   "execution_count": null,
   "metadata": {},
   "outputs": [],
   "source": [
    "df=pd.DataFrame(all_products)"
   ]
  },
  {
   "cell_type": "code",
   "execution_count": null,
   "metadata": {},
   "outputs": [],
   "source": [
    "df.head(35)"
   ]
  },
  {
   "cell_type": "code",
   "execution_count": null,
   "metadata": {},
   "outputs": [],
   "source": [
    "df['account_id']=df['account_id'].astype(str)\n",
    "df.to_excel('marketplace_subscriptions.xlsx')"
   ]
  }
 ],
 "metadata": {
  "kernelspec": {
   "display_name": ".venv",
   "language": "python",
   "name": "python3"
  },
  "language_info": {
   "codemirror_mode": {
    "name": "ipython",
    "version": 3
   },
   "file_extension": ".py",
   "mimetype": "text/x-python",
   "name": "python",
   "nbconvert_exporter": "python",
   "pygments_lexer": "ipython3",
   "version": "3.9.6"
  }
 },
 "nbformat": 4,
 "nbformat_minor": 2
}
